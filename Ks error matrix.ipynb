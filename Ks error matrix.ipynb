{
 "cells": [
  {
   "cell_type": "markdown",
   "metadata": {},
   "source": [
    "# Матрица ошибок для $K_S$"
   ]
  },
  {
   "cell_type": "markdown",
   "metadata": {},
   "source": [
    "Есть матрицы ошибок для пионов ($D_+$, $D_-$)\n",
    "\n",
    "$$D_{+/-}  = \\begin{pmatrix}\n",
    "\\sigma_{p_t}^2 & \\sigma_{p_t} \\sigma_{\\varphi}\\rho_{\\varphi p_t} & \\sigma_{p_t} \\sigma_{\\theta}\\rho_{\\theta p_t} \\\\\n",
    "\\sigma_{p_t} \\sigma_{\\varphi}\\rho_{\\varphi p_t} & \\sigma_{\\varphi}^2 & \\sigma_{\\varphi} \\sigma_{\\theta}\\rho_{\\varphi \\theta} \\\\\n",
    "\\sigma_{p_t} \\sigma_{\\theta}\\rho_{\\theta p_t} & \\sigma_{\\varphi} \\sigma_{\\theta}\\rho_{\\varphi \\theta} & \\sigma_{\\theta}^2\n",
    "\\end{pmatrix} $$\n",
    "\n",
    "$ p_t = p \\sin{\\theta} $, далее индекс $t$ буду опускать"
   ]
  },
  {
   "cell_type": "markdown",
   "metadata": {},
   "source": [
    "Матрица ошибок для $K_S$ будет выглядеть так\n",
    "\n",
    "$$ D_{K_S} = J \\begin{pmatrix}\n",
    "        D_+ & 0 \\\\\n",
    "        0 & D_- \\\\\n",
    "        \\end{pmatrix} J^{T} $$"
   ]
  },
  {
   "cell_type": "markdown",
   "metadata": {},
   "source": [
    "$J$ - матрица производных, определяется следующим образом\n",
    "\n",
    "$$J = \\begin{pmatrix}\n",
    "    \\frac{\\partial p_{KS}}{\\partial p_+} & \\frac{\\partial p_{KS}}{\\partial \\varphi_+} & \\frac{\\partial p_{KS}}{\\partial \\theta_+} & \\frac{\\partial p_{KS}}{\\partial p_-} & \\frac{\\partial p_{KS}}{\\partial \\varphi_-} & \\frac{\\partial p_{KS}}{\\partial \\theta_-} \\\\\n",
    "    \\frac{\\partial \\varphi_{KS}}{\\partial p_+} & \\frac{\\partial \\varphi_{KS}}{\\partial \\varphi_+} & \\frac{\\partial \\varphi_{KS}}{\\partial \\theta_+} & \\frac{\\partial \\varphi_{KS}}{\\partial p_-} & \\frac{\\partial \\varphi_{KS}}{\\partial \\varphi_-} & \\frac{\\partial \\varphi_{KS}}{\\partial \\theta_-} \\\\\n",
    "    \\frac{\\partial \\theta_{KS}}{\\partial p_+} & \\frac{\\partial \\theta_{KS}}{\\partial \\varphi_+} & \\frac{\\partial \\theta_{KS}}{\\partial \\theta_+} & \\frac{\\partial \\theta_{KS}}{\\partial p_-} & \\frac{\\partial \\theta_{KS}}{\\partial \\varphi_-} & \\frac{\\partial \\theta_{KS}}{\\partial \\theta_-}\n",
    "\\end{pmatrix}$$"
   ]
  },
  {
   "cell_type": "markdown",
   "metadata": {},
   "source": [
    "# Проверка матрицы"
   ]
  },
  {
   "cell_type": "markdown",
   "metadata": {},
   "source": [
    "Было взято моделирование $e^+ e^- \\to K^* K_S $, \n",
    "\n",
    "$K^* \\to K^{\\mp} \\pi^{\\pm}$, $K_S \\to \\pi^{+} \\pi^{-}$"
   ]
  },
  {
   "cell_type": "markdown",
   "metadata": {},
   "source": [
    "Строю распределение по инвариантной массе $K^*$ "
   ]
  },
  {
   "cell_type": "markdown",
   "metadata": {},
   "source": [
    "Генераторные параметры | Нереконструированные параметры \n",
    "- | - \n",
    "![alt](11.png) | ![alt](9.png)"
   ]
  },
  {
   "cell_type": "markdown",
   "metadata": {},
   "source": [
    "Строю разницу между массой $K^*$, полученной из генераторных параметров, и из нереконструированных параметров "
   ]
  },
  {
   "cell_type": "markdown",
   "metadata": {},
   "source": [
    "Ширина такого распределения показывает разрешение"
   ]
  },
  {
   "cell_type": "markdown",
   "metadata": {},
   "source": [
    "![MGen - MRaw](2.png)"
   ]
  },
  {
   "cell_type": "markdown",
   "metadata": {},
   "source": [
    "То же самое распределение для реконструированных параметров после кин.фита с учётом матрицы ошибок для $K_S$"
   ]
  },
  {
   "cell_type": "markdown",
   "metadata": {},
   "source": [
    "Генераторные параметры | Реконструированные параметры \n",
    "- | - \n",
    "![alt](11.png) | ![alt](10.png)"
   ]
  },
  {
   "cell_type": "markdown",
   "metadata": {},
   "source": [
    "![Mgen - Mrec](1.png)"
   ]
  },
  {
   "cell_type": "markdown",
   "metadata": {},
   "source": [
    "Cравнение этих двух распределений"
   ]
  },
  {
   "cell_type": "markdown",
   "metadata": {},
   "source": [
    "![Comparison](3.png)"
   ]
  },
  {
   "cell_type": "markdown",
   "metadata": {},
   "source": [
    "Видно, что кин.фит с учётом матрицы ошибок для $K_S$, поджимает распределение. Разрешение улучшается."
   ]
  },
  {
   "cell_type": "markdown",
   "metadata": {},
   "source": [
    "## Вычисление разрешения"
   ]
  },
  {
   "cell_type": "markdown",
   "metadata": {},
   "source": [
    "Без кинфита | После кинфита\n",
    "- | - \n",
    "![alt](6.png) | ![alt](7.png)"
   ]
  },
  {
   "cell_type": "markdown",
   "metadata": {},
   "source": [
    "## Сравнение разрешений кин. фита с 3 и 4 частицами"
   ]
  },
  {
   "cell_type": "markdown",
   "metadata": {},
   "source": [
    "Смотрю разрешение в случае, когда в кин.фите участвуют $K^{\\pm}, \\pi^{\\mp}, K_S$, и когда $K^{\\pm}, \\pi^{\\mp}, \\pi^{\\pm}, \\pi^{\\mp}$"
   ]
  },
  {
   "cell_type": "markdown",
   "metadata": {},
   "source": [
    "![alt](8.png)"
   ]
  },
  {
   "cell_type": "code",
   "execution_count": null,
   "metadata": {},
   "outputs": [],
   "source": []
  }
 ],
 "metadata": {
  "kernelspec": {
   "display_name": "Python 3",
   "language": "python",
   "name": "python3"
  },
  "language_info": {
   "codemirror_mode": {
    "name": "ipython",
    "version": 3
   },
   "file_extension": ".py",
   "mimetype": "text/x-python",
   "name": "python",
   "nbconvert_exporter": "python",
   "pygments_lexer": "ipython3",
   "version": "3.6.8"
  }
 },
 "nbformat": 4,
 "nbformat_minor": 2
}
